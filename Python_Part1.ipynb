{
 "cells": [
  {
   "cell_type": "markdown",
   "metadata": {
    "colab_type": "text",
    "id": "UYwRNBo4h2n5"
   },
   "source": [
    "# Learning the ropes of *Python*"
   ]
  },
  {
   "cell_type": "markdown",
   "metadata": {
    "colab_type": "text",
    "id": "ZRKco0vth2n7"
   },
   "source": [
    "Welcome in this four-part notebook which aims to prepare you to use *Python*. As these notebooks start from scratch, some of the topics may seem too simple. Of course, feel free to skip those topics that are too easy, and concentrate on the harder ones (or the challenges at the end of each notebook).\n",
    "\n",
    "The *Python* notebooks are divided in four parts:\n",
    "1. The Basics: Syntax, Strings, and Conditionals\n",
    "2. Functions and Classes\n",
    "3. Lists, Loops, Dictionaries, and File I/O\n",
    "4. NumPy and Matplotlib\n",
    "\n",
    "In every notebook, we have not only provided an introduction to each subject, but also some small tests and larger challenges for you to tackle. This is the ideal way to verify whether you completely understand the topics at hand. \n",
    "\n",
    "Note that we cannot be exhaustive. However, these notebooks aim to get you started with *Python* with minimum effort. Further details can be found on the [*Python* homepage](http://docs.python.org/3/). Special thanks goes out to [Codecademy](http://www.codecademy.com), the online platform that was used as the basis of many of the examples given below.\n",
    "\n",
    "Your project will be given in the form of an incomplete notebook, explaining the problem to be solved and possible some example input needed in the project. It is your task to work out the details and to get the problem solved by writing the required source code. You should also sufficiently document it with text blocks, comments, etc."
   ]
  },
  {
   "cell_type": "code",
   "execution_count": 1,
   "metadata": {
    "colab": {},
    "colab_type": "code",
    "id": "C1YGa3nIh2n8"
   },
   "outputs": [
    {
     "name": "stdout",
     "output_type": "stream",
     "text": [
      "Hello World\n"
     ]
    }
   ],
   "source": [
    "print(\"Hello World\")"
   ]
  },
  {
   "cell_type": "markdown",
   "metadata": {
    "colab_type": "text",
    "id": "myJ8obd3h2n_"
   },
   "source": [
    "However, apart from this small difference, this notebook environment closely emulates the true environment you will be using later on.\n",
    "\n",
    "With all that being said, let's get started..."
   ]
  },
  {
   "cell_type": "markdown",
   "metadata": {
    "colab_type": "text",
    "id": "Y3ko9c1yh2oA"
   },
   "source": [
    "# Part 1: The Basics: Syntax, Strings, and Conditionals"
   ]
  },
  {
   "cell_type": "markdown",
   "metadata": {
    "colab_type": "text",
    "id": "pM5zi263h2oB"
   },
   "source": [
    "*My favorite language for maintainability is Python. It has simple, clean syntax, object encapsulation, good library support, and optional named parameters.*<br/>\n",
    "<div style=\"text-align: right\"> -- Bram Cohen, American computer scientist </div>"
   ]
  },
  {
   "cell_type": "markdown",
   "metadata": {
    "colab_type": "text",
    "id": "ONC_laI7h2oC"
   },
   "source": [
    "## Chapter 1: Syntax"
   ]
  },
  {
   "cell_type": "markdown",
   "metadata": {
    "colab_type": "text",
    "id": "8xk-FnyJh2oC"
   },
   "source": [
    "### 1.1. What's in a name: Variables and data types"
   ]
  },
  {
   "cell_type": "markdown",
   "metadata": {
    "colab_type": "text",
    "id": "Qcdbbx6Yh2oE"
   },
   "source": [
    "Creating web apps, games, search engines and simulation software all involve storing and working with different types of data. They do so using **variables**. A variable stores a piece of data, and gives it a specific name.\n",
    "\n",
    "For instance, the variable `spam` stores the value `5` after execution of the chunk of code below."
   ]
  },
  {
   "cell_type": "code",
   "execution_count": 2,
   "metadata": {
    "colab": {},
    "colab_type": "code",
    "id": "1WNiu2ZVh2oG"
   },
   "outputs": [
    {
     "name": "stdout",
     "output_type": "stream",
     "text": [
      "5\n"
     ]
    }
   ],
   "source": [
    "spam = 5\n",
    "print(spam)"
   ]
  },
  {
   "cell_type": "markdown",
   "metadata": {
    "colab_type": "text",
    "id": "Z2Q6uVjmh2oJ"
   },
   "source": [
    "Try it out yourself: set the variable `my_int` equal to the value `10` in the code below, and execute the code. If everything goes right, your code should output `10`."
   ]
  },
  {
   "cell_type": "code",
   "execution_count": 4,
   "metadata": {
    "colab": {},
    "colab_type": "code",
    "id": "Eu_f0zNRh2oK"
   },
   "outputs": [
    {
     "name": "stdout",
     "output_type": "stream",
     "text": [
      "10\n"
     ]
    }
   ],
   "source": [
    "# Insert your line of code here\n",
    "my_int = 10\n",
    "# Do not alter the line below\n",
    "print(my_int)"
   ]
  },
  {
   "cell_type": "markdown",
   "metadata": {
    "colab_type": "text",
    "id": "JLioLg-wh2oN"
   },
   "source": [
    "You just stored an **integer** in a variable. Integers are one **data type** used in programming. A second data type to store (real) numbers, is a **float**:"
   ]
  },
  {
   "cell_type": "code",
   "execution_count": 5,
   "metadata": {
    "colab": {},
    "colab_type": "code",
    "id": "8uar15-Eh2oO"
   },
   "outputs": [
    {
     "name": "stdout",
     "output_type": "stream",
     "text": [
      "12.32\n"
     ]
    }
   ],
   "source": [
    "my_float = 12.32\n",
    "print(my_float)"
   ]
  },
  {
   "cell_type": "markdown",
   "metadata": {
    "colab_type": "text",
    "id": "xeE8jBlgh2oR"
   },
   "source": [
    "A third data type introduced here is called a **boolean**. A boolean is like a light switch. It can only have two values. Just like a light swtich can only be on or off, a boolean can only be `True` or `False`. For instance:"
   ]
  },
  {
   "cell_type": "code",
   "execution_count": 6,
   "metadata": {
    "colab": {},
    "colab_type": "code",
    "id": "wnfnm1juh2oS"
   },
   "outputs": [
    {
     "name": "stdout",
     "output_type": "stream",
     "text": [
      "True\n"
     ]
    }
   ],
   "source": [
    "my_bool = True\n",
    "print(my_bool)"
   ]
  },
  {
   "cell_type": "markdown",
   "metadata": {
    "colab_type": "text",
    "id": "qCSEVPyuh2oW"
   },
   "source": [
    "We previously assigned to the variable `my_int` the value `10`. Let's say we want to change the value in this variable to `3`. In the code below, reassign the value by inserting `my_int = 3` in between the two print statements, and watch what happens when you execute the code."
   ]
  },
  {
   "cell_type": "code",
   "execution_count": 7,
   "metadata": {
    "colab": {},
    "colab_type": "code",
    "id": "LWrFGa-9h2oX"
   },
   "outputs": [
    {
     "name": "stdout",
     "output_type": "stream",
     "text": [
      "10\n",
      "3\n"
     ]
    }
   ],
   "source": [
    "print(my_int)\n",
    "\n",
    "# Add your own code on the line hereunder\n",
    "my_int = 3\n",
    "\n",
    "# Do not change the line below\n",
    "print(my_int)"
   ]
  },
  {
   "cell_type": "markdown",
   "metadata": {
    "colab_type": "text",
    "id": "igfg-fJNh2oc"
   },
   "source": [
    "You can easily check the data type of a variable using the `type` command:"
   ]
  },
  {
   "cell_type": "code",
   "execution_count": 8,
   "metadata": {
    "colab": {},
    "colab_type": "code",
    "id": "3Eb7-3ndh2od"
   },
   "outputs": [
    {
     "name": "stdout",
     "output_type": "stream",
     "text": [
      "<class 'int'>\n",
      "<class 'float'>\n",
      "<class 'bool'>\n"
     ]
    }
   ],
   "source": [
    "print(type(my_int))\n",
    "print(type(my_float))\n",
    "print(type(my_bool))"
   ]
  },
  {
   "cell_type": "markdown",
   "metadata": {
    "colab_type": "text",
    "id": "9uBk4QJOh2og"
   },
   "source": [
    "### 1.2. Whitespace and comments"
   ]
  },
  {
   "cell_type": "markdown",
   "metadata": {
    "colab_type": "text",
    "id": "55OVAGXth2oi"
   },
   "source": [
    "In *Python*, whitespace is used to structure code. When used to indent blocks (see the chapter on conditional statements and loops), whitespace is necessary for your code to execute as expected. However, even when not strictly necessary, whitespace and comments may greatly facilitate the readibility of your code, and we strongly advise you to use it whenever possible."
   ]
  },
  {
   "cell_type": "markdown",
   "metadata": {
    "colab_type": "text",
    "id": "TatSvnFZh2oj"
   },
   "source": [
    "As an example of where whitespace is necessary, look at the chunk of code below. As we will learn in a later chapter, the body of a function needs to be indented with respect to its header (the line starting with `def`). The default indentation is four spaces (which, coincidentally, also corresponds to one tab). Try to execute the code below as-is, and observe the **IndentationError** thrown by *Python*. Now, correctly indent the second and third line, and execute your code again."
   ]
  },
  {
   "cell_type": "code",
   "execution_count": 9,
   "metadata": {
    "colab": {},
    "colab_type": "code",
    "id": "2wcDTj8ch2ok"
   },
   "outputs": [
    {
     "name": "stdout",
     "output_type": "stream",
     "text": [
      "12\n"
     ]
    }
   ],
   "source": [
    "def spam():\n",
    "    eggs = 12\n",
    "    return eggs\n",
    "\n",
    "print(spam())"
   ]
  },
  {
   "cell_type": "markdown",
   "metadata": {
    "colab_type": "text",
    "id": "2DbWCC9Hh2on"
   },
   "source": [
    "You probably saw us use the `#` sign a few times in earlier exercises. The `#` sign is for comments. A comment is a line of text that *Python* won't try to run as code. It's just for humans to read.  Comments make your program easier to understand. When you look back at your code or others want to collaborate with you, they can read your comments and easily figure out what your code does."
   ]
  },
  {
   "cell_type": "markdown",
   "metadata": {
    "colab_type": "text",
    "id": "IPxkF4-rh2on"
   },
   "source": [
    "Write a comment in the box below. Make sure it starts with ´#´. The comment can say anything you like."
   ]
  },
  {
   "cell_type": "code",
   "execution_count": 10,
   "metadata": {
    "colab": {},
    "colab_type": "code",
    "id": "4JvZbHSbh2op"
   },
   "outputs": [],
   "source": [
    "# This is a comment\n",
    "# hello there!"
   ]
  },
  {
   "cell_type": "markdown",
   "metadata": {
    "colab_type": "text",
    "id": "R3NdvzeBh2or"
   },
   "source": [
    "The `#` sign will only comment out a single line. While you could write a multi-line comment, starting each line with `#`, that can be a pain.\n",
    "\n",
    "Instead, for multi-line comments, you can include the whole block in a set of triple quotation marks, such as those below."
   ]
  },
  {
   "cell_type": "code",
   "execution_count": 11,
   "metadata": {
    "colab": {},
    "colab_type": "code",
    "id": "8SesRMIQh2or"
   },
   "outputs": [
    {
     "data": {
      "text/plain": [
       "\"\\nSipping from your cup 'til it runneth over,\\nHoly Grail.\\n\""
      ]
     },
     "execution_count": 11,
     "metadata": {},
     "output_type": "execute_result"
    }
   ],
   "source": [
    "'''\n",
    "Sipping from your cup 'til it runneth over,\n",
    "Holy Grail.\n",
    "'''"
   ]
  },
  {
   "cell_type": "markdown",
   "metadata": {
    "colab_type": "text",
    "id": "xybKMFGBh2ow"
   },
   "source": [
    "### 1.3. Math: Not even once"
   ]
  },
  {
   "cell_type": "markdown",
   "metadata": {
    "colab_type": "text",
    "id": "C_DljM_8h2ow"
   },
   "source": [
    "*Python* has some [built-in functions](http://docs.python.org/2/library/functions.html) and operators to do basic math. In Part 4, we will see how *NumPy* provides a (often faster) alternative. For now, however, we stay with plain *Python*. In the chunk of code below, we provide the four basic operators:"
   ]
  },
  {
   "cell_type": "code",
   "execution_count": 12,
   "metadata": {
    "colab": {},
    "colab_type": "code",
    "id": "lepgLtrkh2ox"
   },
   "outputs": [
    {
     "name": "stdout",
     "output_type": "stream",
     "text": [
      "2462\n",
      "1850936\n",
      "3123241\n",
      "11.636363636363637\n",
      "11\n"
     ]
    }
   ],
   "source": [
    "addition = 568 + 1894\n",
    "subtraction = 2399885 - 548949\n",
    "multiplication = 5489 * 569\n",
    "division = 128 / 11\n",
    "integer_division = 128 // 11\n",
    "\n",
    "# Do not alter the lines below\n",
    "print(addition)\n",
    "print(subtraction)\n",
    "print(multiplication)\n",
    "print(division)\n",
    "print(integer_division)"
   ]
  },
  {
   "cell_type": "markdown",
   "metadata": {
    "colab_type": "text",
    "id": "IHZB770ph2o0"
   },
   "source": [
    "**Beware**, when dividing a dividend by a number that is not a divisor of the dividend, we expect to obtain a real number. However, in the older *Python 2.x* version, this is not the case: division of an integer by an integer always returns an integer, discarding the decimal part of the quotient if necessary. As a result, earlier *Python* versions will return `5 / 2 == 2`, and casting was required to get a proper division: ` float(5) / 2 == 2.5` or `5.0 / 2 == 2.5`. The integer division in *Python 3.x* has now its own operator: `//`."
   ]
  },
  {
   "cell_type": "code",
   "execution_count": 13,
   "metadata": {
    "colab": {},
    "colab_type": "code",
    "id": "uY-T7NPWh2o1"
   },
   "outputs": [
    {
     "name": "stdout",
     "output_type": "stream",
     "text": [
      "3\n",
      "3.0\n"
     ]
    }
   ],
   "source": [
    "my_int_as_float = float(my_int)\n",
    "\n",
    "# Do not alter the two lines below\n",
    "print(my_int)\n",
    "print(my_int_as_float)"
   ]
  },
  {
   "cell_type": "markdown",
   "metadata": {
    "colab_type": "text",
    "id": "TjHvO3ech2o6"
   },
   "source": [
    "*Python* has a shorthand notation for an arithmetic expression on a variable whose result is stored in the same variable, because this is often needed. For instance, when we need to add 2 to the variable `counter`, we can do this in two ways:"
   ]
  },
  {
   "cell_type": "code",
   "execution_count": 14,
   "metadata": {
    "colab": {},
    "colab_type": "code",
    "id": "a__Q7luKh2o8"
   },
   "outputs": [
    {
     "name": "stdout",
     "output_type": "stream",
     "text": [
      "4\n",
      "4\n"
     ]
    }
   ],
   "source": [
    "# Way 1: The long way\n",
    "counter = 2\n",
    "counter = counter + 2\n",
    "print(counter)\n",
    "\n",
    "# Way 2: The slightly shorter way\n",
    "counter = 2\n",
    "counter += 2\n",
    "print(counter)"
   ]
  },
  {
   "cell_type": "markdown",
   "metadata": {
    "colab_type": "text",
    "id": "tmqQnvLLh2pA"
   },
   "source": [
    "This also holds for the other basic arithmetic operators. Note, however, that *Python* does not support *C++* style autoincrement and autodecrement, such as `counter--` (which is the same as `counter = counter - 1`)."
   ]
  },
  {
   "cell_type": "markdown",
   "metadata": {
    "colab_type": "text",
    "id": "VAXfLWubh2pB"
   },
   "source": [
    "On to some more advanced math: **exponentiation**. To exponentiate a number, simply use the `**` operator. (Note the difference with multiplication, which is a single `*`. Many a good scientist has lost at least some time looking for such a mistake.)\n",
    "\n",
    "In the chunck of code below, raise 10 to the power of 2 and assign it to the variable `hundred`. Likewise, raise 169 to the power 0.5 and assign it to `thirteen`."
   ]
  },
  {
   "cell_type": "code",
   "execution_count": 16,
   "metadata": {
    "colab": {},
    "colab_type": "code",
    "id": "XTEzlCAzh2pE"
   },
   "outputs": [
    {
     "name": "stdout",
     "output_type": "stream",
     "text": [
      "100\n",
      "13.0\n"
     ]
    }
   ],
   "source": [
    "# Complete the code here\n",
    "\n",
    "hundred = 10**2\n",
    "thirteen = 169**0.5\n",
    "# Do not alter the lines below\n",
    "print(hundred)\n",
    "print(thirteen)"
   ]
  },
  {
   "cell_type": "markdown",
   "metadata": {
    "colab_type": "text",
    "id": "RMr7FHjTh2pJ"
   },
   "source": [
    "As you can imagine, exponentiation can easily lead to huge numbers, such as `1234**123`. In earlier *Python* versions, this could result in **overflow**. However, since version 3, *Python* supports also large integers, ensuring that for instance `1234**123` will be evaluated correctly. "
   ]
  },
  {
   "cell_type": "markdown",
   "metadata": {
    "colab_type": "text",
    "id": "yQpo2nd9h2pJ"
   },
   "source": [
    "Our final operator, at least for now, is **modulo**. Modulo returns the remainder from a division. So, if you type `3 % 2`, it will return `1`, because 2 goes into 3 evenly once, with 1 left over.\n",
    "\n",
    "In the chunk of code below, add a modulo expression to the right-hand side of the variable `one`, and make sure it is one."
   ]
  },
  {
   "cell_type": "code",
   "execution_count": 18,
   "metadata": {
    "colab": {},
    "colab_type": "code",
    "id": "K6jni_BTh2pL"
   },
   "outputs": [
    {
     "name": "stdout",
     "output_type": "stream",
     "text": [
      "1\n"
     ]
    }
   ],
   "source": [
    "# Alter the right-hand side of the expression below\n",
    "one = 3%2\n",
    "\n",
    "# Do not alter the line below\n",
    "print(one)"
   ]
  },
  {
   "cell_type": "markdown",
   "metadata": {
    "colab_type": "text",
    "id": "vrmg-KsCh2pO"
   },
   "source": [
    "The order in which the operators above are evaluated (the operator **precedence**) is as follows:\n",
    "1. Parentheses\n",
    "2. Exponentiation\n",
    "3. Multiplication, division, modulo\n",
    "4. Addition and subtraction\n"
   ]
  },
  {
   "cell_type": "markdown",
   "metadata": {
    "colab_type": "text",
    "id": "ccvXZQUxh2pQ"
   },
   "source": [
    "### 1.4. Test: A US tip calculator"
   ]
  },
  {
   "cell_type": "markdown",
   "metadata": {
    "colab_type": "text",
    "id": "XJK0M5XIh2pR"
   },
   "source": [
    "As those of you who have visited a restaurant in the US can confirm, it is often not straightforward to determine how much you have to pay when looking at the menu. The total cost to be paid includes:\n",
    "* The cost of the meal (let's say $44.50)\n",
    "* The restaurant tax (let's say 6.75%)\n",
    "* A tip (15% is an average tip)\n",
    "\n",
    "In the box below, do the following:\n",
    "1. Declare the variable `meal` and assign the correct value to it.\n",
    "2. Create the variable `tax` and set it equal to the decimal value of 6.75%.\n",
    "3. Create the variable `tip` and set it to the decimal value of 15%.\n",
    "4. Reassign meal to the value of the mail including tax.\n",
    "5. Finally, assign to the variable `total` the total cost, including taxes and tips. Note that the tip is calculated based on the meal including taxes.\n",
    "6. Execute the chunk of code below. If everything goes well, it should print out `54.63`."
   ]
  },
  {
   "cell_type": "code",
   "execution_count": 20,
   "metadata": {
    "colab": {},
    "colab_type": "code",
    "id": "g7z9w0svh2pS"
   },
   "outputs": [
    {
     "name": "stdout",
     "output_type": "stream",
     "text": [
      "54.63\n"
     ]
    }
   ],
   "source": [
    "meal = 44.50\n",
    "tax = 0.0675\n",
    "tip = 0.15\n",
    "total = 0\n",
    "meal += tax*meal\n",
    "total += meal + tip*meal\n",
    "\n",
    "\n",
    "# Do not alter the line below\n",
    "print('{:.2f}'.format(total))"
   ]
  },
  {
   "cell_type": "markdown",
   "metadata": {
    "colab_type": "text",
    "id": "PdKz_S7jh2pX"
   },
   "source": [
    "The print statement above formats and prints the value of `total` with exactly two numbers after the decimal. We'll learn more about string formatting in the next chapter.\n",
    "\n"
   ]
  },
  {
   "cell_type": "markdown",
   "metadata": {
    "colab_type": "text",
    "id": "7yEnQjWah2pX"
   },
   "source": [
    "<br/>"
   ]
  },
  {
   "cell_type": "markdown",
   "metadata": {
    "colab_type": "text",
    "id": "QAHgtnSqh2pZ"
   },
   "source": [
    "## Chapter 2: Strings and Console Output"
   ]
  },
  {
   "cell_type": "markdown",
   "metadata": {
    "colab_type": "text",
    "id": "OWmZZqy8h2pZ"
   },
   "source": [
    "### 2.1. Constructing strings"
   ]
  },
  {
   "cell_type": "markdown",
   "metadata": {
    "colab_type": "text",
    "id": "wF3dZ4n7h2pa"
   },
   "source": [
    "A fourth useful data type is **string**. A string can contain letters, numbers and symbols, and is surrounded by single or double quotation marks, such as `\"Hello World!\"` in the beginning of this notebook.\n",
    "\n",
    "Create a new variable `brian` in the box below, and assign it the string `\"Hello Life!\"`"
   ]
  },
  {
   "cell_type": "code",
   "execution_count": 22,
   "metadata": {
    "colab": {},
    "colab_type": "code",
    "id": "VD2nwyFVh2pa"
   },
   "outputs": [
    {
     "name": "stdout",
     "output_type": "stream",
     "text": [
      "Hello Life\n"
     ]
    }
   ],
   "source": [
    "\n",
    "brian = \"Hello Life\"\n",
    "# Do not alter the line below\n",
    "print(brian)"
   ]
  },
  {
   "cell_type": "markdown",
   "metadata": {
    "colab_type": "text",
    "id": "6Aaa-qSEh2pd"
   },
   "source": [
    "While you can use simple characters in a string, some more special characters need to be escaped. For instance, in the line below, the string is broken. Indeed, the `'` symbol in `isn't`, which comes from a contraction, is interpreted by *Python* as the end of a string. This can be circumvented by preceding this special character by a backslash, `\\` (or by using double quotation marks). Do this, and fix the string below."
   ]
  },
  {
   "cell_type": "code",
   "execution_count": 24,
   "metadata": {
    "colab": {},
    "colab_type": "code",
    "id": "CV32kEGqh2pe"
   },
   "outputs": [
    {
     "name": "stdout",
     "output_type": "stream",
     "text": [
      "This isn't flying, this is falling with style!\n"
     ]
    }
   ],
   "source": [
    "print(\"This isn't flying, this is falling with style!\")"
   ]
  },
  {
   "cell_type": "markdown",
   "metadata": {
    "colab_type": "text",
    "id": "T9P9gFCMh2pi"
   },
   "source": [
    "Strings can easily be **concatenated** or joined together by putting the `+` operator between two strings. For instance (pay attention to the whitespace at the end of the first string):"
   ]
  },
  {
   "cell_type": "code",
   "execution_count": 25,
   "metadata": {
    "colab": {},
    "colab_type": "code",
    "id": "zuXkYIGeh2pi"
   },
   "outputs": [
    {
     "name": "stdout",
     "output_type": "stream",
     "text": [
      "Hello World\n"
     ]
    }
   ],
   "source": [
    "first_string = \"Hello \"\n",
    "second_string = \"World\"\n",
    "print(first_string + second_string)"
   ]
  },
  {
   "cell_type": "markdown",
   "metadata": {
    "colab_type": "text",
    "id": "BYgLPiZuh2pk"
   },
   "source": [
    "### 2.2. Accessing parts of a string: Indexing and slicing"
   ]
  },
  {
   "cell_type": "markdown",
   "metadata": {
    "colab_type": "text",
    "id": "VMRA2ixBh2pl"
   },
   "source": [
    "Each character in a string is assigned a number. This number is called the **index** of the character. Note that *Python* starts to count at 0. For instance, in the word `python`, the character at index 3 is a `h`. This character can be retrieved by using square brackets:"
   ]
  },
  {
   "cell_type": "code",
   "execution_count": 26,
   "metadata": {
    "colab": {},
    "colab_type": "code",
    "id": "5JtclNHAh2pm"
   },
   "outputs": [
    {
     "name": "stdout",
     "output_type": "stream",
     "text": [
      "h\n"
     ]
    }
   ],
   "source": [
    "print(\"python\"[3])"
   ]
  },
  {
   "cell_type": "markdown",
   "metadata": {
    "colab_type": "text",
    "id": "LNctEvpKh2po"
   },
   "source": [
    "Sometimes we only want part of a string. Maybe we only want the first few elements; maybe we only want the last few. Maybe we want every other element! **Slicing** allows us to access elements of a string (or a list, see further) in a concise manner. The syntax looks like this:\n",
    "\n",
    "`[start:end:stride]`\n",
    "\n",
    "Here, `start` describes where the slice starts (inclusive), `end` is where it ends (exclusive), and `stride` describes the space between items in the string. For example, a stride of `2` would select every other character from the original string to place in the sliced string. If you don’t pass a particular index to the slice, *Python* will pick the default. The default starting index is `0`. The default ending index is `-1`, i.e. the end of the string. The default stride is `1`. A negative stride progresses through the string from right to left.\n",
    "\n",
    "As a last point, we can also split a string using the `split()` method. Here, the original string is splitted at those points where the `separator` is found. For instance, if you want to split the following sentence, you may do the following:"
   ]
  },
  {
   "cell_type": "code",
   "execution_count": 0,
   "metadata": {
    "colab": {},
    "colab_type": "code",
    "id": "QPva1-q7h2po"
   },
   "outputs": [],
   "source": [
    "s = \"This is a competely inspiring sentence.\"\n",
    "separator = \" \"\n",
    "print(s.split(separator))"
   ]
  },
  {
   "cell_type": "markdown",
   "metadata": {
    "colab_type": "text",
    "id": "QYyENIlUh2pq"
   },
   "source": [
    "The output of this `split` method is a list of strings, but more about lists later on."
   ]
  },
  {
   "cell_type": "markdown",
   "metadata": {
    "colab_type": "text",
    "id": "j_tw9oP0h2pu"
   },
   "source": [
    "### 2.3. Test: A secret message!"
   ]
  },
  {
   "cell_type": "markdown",
   "metadata": {
    "colab_type": "text",
    "id": "44i5eGG8h2pv"
   },
   "source": [
    "The following string is garbled in two ways:\n",
    "1. The message is written in reverse order.\n",
    "2. The letter we want is every other letter.\n",
    "\n",
    "Use slicing to extract the message and save it to a variable called `message`."
   ]
  },
  {
   "cell_type": "code",
   "execution_count": 0,
   "metadata": {
    "colab": {},
    "colab_type": "code",
    "id": "GTkUWB-Sh2pw"
   },
   "outputs": [],
   "source": [
    "garbled = \"!XeXgXaXsXsXeXmX XtXeXrXcXeXsX XeXhXtX XmXaX XI\"\n",
    "\n",
    "# Define the variable 'message' in the line hereunder\n",
    "\n",
    "\n",
    "# Do no alter the line hereunder\n",
    "print(message)"
   ]
  },
  {
   "cell_type": "markdown",
   "metadata": {
    "colab_type": "text",
    "id": "vCcvTD6dh2py"
   },
   "source": [
    "### 2.4 String methods"
   ]
  },
  {
   "cell_type": "markdown",
   "metadata": {
    "colab_type": "text",
    "id": "2bV3ALAAh2pz"
   },
   "source": [
    "Now that we know how to store strings, let's see how we can change them using **string methods**. String methods let you perform specific tasks for strings. We'll focus on four common string methods:\n",
    "1. `len()`\n",
    "2. `lower()`\n",
    "3. `upper()`\n",
    "4. `str()`"
   ]
  },
  {
   "cell_type": "markdown",
   "metadata": {
    "colab_type": "text",
    "id": "yf7S15b0h2pz"
   },
   "source": [
    "The `len()` method returns the number of characters of a string. Try it yourself hereunder. Create a variable named `parrot` and set it to the string `\"Norwegian Blue\"`. On the next line, type `print(len(parrot))`. The output will be the number of letters in `\"Norwegian Blue\"` (14)."
   ]
  },
  {
   "cell_type": "code",
   "execution_count": 0,
   "metadata": {
    "colab": {},
    "colab_type": "code",
    "id": "ctpQ9vmXh2pz"
   },
   "outputs": [],
   "source": [
    "parrot = \"Norwegian Blue\"\n",
    "print(len(parrot))"
   ]
  },
  {
   "cell_type": "markdown",
   "metadata": {
    "colab_type": "text",
    "id": "Ym0BagBZh2p1"
   },
   "source": [
    "The `lower()` method can be used to get rid of all the capitalizations in your strings. `upper()` is a similar method, which makes a string completely upper case:"
   ]
  },
  {
   "cell_type": "code",
   "execution_count": 0,
   "metadata": {
    "colab": {},
    "colab_type": "code",
    "id": "qWlgQ9Zvh2p2"
   },
   "outputs": [],
   "source": [
    "text = 'Hello World'\n",
    "print(text.lower())\n",
    "print(text.upper())"
   ]
  },
  {
   "cell_type": "markdown",
   "metadata": {
    "colab_type": "text",
    "id": "AMlgw3MOh2p4"
   },
   "source": [
    "Now, try it yourself in the box below. Print out the content of the variable `parrot`, once in lower case, once in upper case."
   ]
  },
  {
   "cell_type": "code",
   "execution_count": 0,
   "metadata": {
    "colab": {},
    "colab_type": "code",
    "id": "6wvuxGnWh2p4"
   },
   "outputs": [],
   "source": [
    "\n"
   ]
  },
  {
   "cell_type": "markdown",
   "metadata": {
    "colab_type": "text",
    "id": "A6NDCexph2p6"
   },
   "source": [
    "Now let's look at `str()`. The `str()` method turns non-strings into strings. Try it yourself below: create a variable `pi`, and set it to `3.14`. Then execute the box."
   ]
  },
  {
   "cell_type": "code",
   "execution_count": 0,
   "metadata": {
    "colab": {},
    "colab_type": "code",
    "id": "LYQAtDiyh2p6"
   },
   "outputs": [],
   "source": [
    "\n",
    "\n",
    "# Do not alter the code below\n",
    "print(str(pi))"
   ]
  },
  {
   "cell_type": "markdown",
   "metadata": {
    "colab_type": "text",
    "id": "2hLk5LnCh2p9"
   },
   "source": [
    "As a last point in this section, you might have noticed that you use `len(string)` and `str(object)`, but dot notation (such as `\"String\".upper()`) for the other methods. Methods that use dot notation only work with a specific data type, such as strings. In contrast, `len()`and `str()`can work on other data types as well."
   ]
  },
  {
   "cell_type": "markdown",
   "metadata": {
    "colab_type": "text",
    "id": "Z6sh0J-Nh2p9"
   },
   "source": [
    "### 2.5. Printing variables: String formatting"
   ]
  },
  {
   "cell_type": "markdown",
   "metadata": {
    "colab_type": "text",
    "id": "Vo4i3tn2h2p_"
   },
   "source": [
    "As we have already proven before, variables can be printed easily with the `print` command. In the line below, declare a variable `the_machine_goes` and assign it the string value `\"Ping!\"`. Print the variable `the_machine_goes`."
   ]
  },
  {
   "cell_type": "code",
   "execution_count": 0,
   "metadata": {
    "colab": {},
    "colab_type": "code",
    "id": "4iPYxiVFh2p_"
   },
   "outputs": [],
   "source": [
    "\n"
   ]
  },
  {
   "cell_type": "markdown",
   "metadata": {
    "colab_type": "text",
    "id": "nHuK2WDKh2qB"
   },
   "source": [
    "Sometimes you need to combine a string with something that isn't a string. In order to do that, you have to convert the non-string into a string. The `str()` method converts non-strings into strings. Try it yourself with the code below. You get an error if you run the code as-is. Now, use `str()` to turn `3.14` into a string, and run the code again."
   ]
  },
  {
   "cell_type": "code",
   "execution_count": 0,
   "metadata": {
    "colab": {},
    "colab_type": "code",
    "id": "Yil3mj76h2qC"
   },
   "outputs": [],
   "source": [
    "print(\"The value is \" + 3.14)"
   ]
  },
  {
   "cell_type": "markdown",
   "metadata": {
    "colab_type": "text",
    "id": "q2mIxjMnh2qD"
   },
   "source": [
    "When you want to print a variable with a string, there is a better method than concatenating strings together. The `format` method is used to combine a string with variables. It will will replace a `{}` **placeholder** in the string with a variable passed to the `format` method. As an example, execute the code below. [Click here](http://docs.python.org/3/library/stdtypes.html#str.format) for more examples and details."
   ]
  },
  {
   "cell_type": "code",
   "execution_count": 0,
   "metadata": {
    "colab": {},
    "colab_type": "code",
    "id": "cbNpH2BSh2qD"
   },
   "outputs": [],
   "source": [
    "string_1 = \"Camelot\"\n",
    "string_2 = \"place\"\n",
    "\n",
    "print(\"Let's not go to {}. 'Tis a silly {}.\".format(string_1, string_2))"
   ]
  },
  {
   "cell_type": "markdown",
   "metadata": {
    "colab_type": "text",
    "id": "R7gZf5yih2qF"
   },
   "source": [
    "There is a second (older) method to insert variables into strings, which is still often used. The same example in the old style:"
   ]
  },
  {
   "cell_type": "code",
   "execution_count": 0,
   "metadata": {
    "colab": {},
    "colab_type": "code",
    "id": "lD_iBajjh2qG"
   },
   "outputs": [],
   "source": [
    "string_1 = \"Camelot\"\n",
    "string_2 = \"place\"\n",
    "\n",
    "print(\"Let's not go to %s. 'Tis a silly %s.\" % (string_1, string_2))"
   ]
  },
  {
   "cell_type": "markdown",
   "metadata": {
    "colab_type": "text",
    "id": "pz_eW-dZh2qK"
   },
   "source": [
    "You need the same number of `{}` placeholders in a string as the number of arguments to the `format` method. Try it yourself: in the code below, assign an arbitrary string to `name`, `quest`, and `color`. Furthermore, replace the three `___` by the correct formatting code."
   ]
  },
  {
   "cell_type": "code",
   "execution_count": 0,
   "metadata": {
    "colab": {},
    "colab_type": "code",
    "id": "HMxvdl1Nh2qM"
   },
   "outputs": [],
   "source": [
    "name = \n",
    "quest = \n",
    "color = \n",
    "\n",
    "print(\"Ah, so your name is ___, your quest is ___, and your favorite color is ___.\".format(name, quest, color))"
   ]
  },
  {
   "cell_type": "markdown",
   "metadata": {
    "colab_type": "text",
    "id": "3_cYsjP8h2qQ"
   },
   "source": [
    "Before ending this section, we shortly mention that the placeholders above can also be used to format numbers. For instance, in section 1.4, when calculating the total cost of the restaurant visit, we used the placeholder `.2f` to print a real number with exactly two decimals."
   ]
  },
  {
   "cell_type": "markdown",
   "metadata": {
    "colab_type": "text",
    "id": "yMHFaQa0h2qQ"
   },
   "source": [
    "<br/>"
   ]
  },
  {
   "cell_type": "markdown",
   "metadata": {
    "colab_type": "text",
    "id": "FVni1YRTh2qR"
   },
   "source": [
    "## Chapter 3: Conditional Statements and Control Flow"
   ]
  },
  {
   "cell_type": "markdown",
   "metadata": {
    "colab_type": "text",
    "id": "ovIrWrMYh2qR"
   },
   "source": [
    "### 3.1. Comparators"
   ]
  },
  {
   "cell_type": "markdown",
   "metadata": {
    "colab_type": "text",
    "id": "18KmB0BVh2qT"
   },
   "source": [
    "Let's start with the simplest aspect of control flow: **comparators**. There are six:\n",
    "1. Equal to (`==`)\n",
    "2. Not equal to (`!=`)\n",
    "3. Less than (`<`)\n",
    "4. Less than or equal to (`<=`)\n",
    "5. Greater than (`>`)\n",
    "6. Greater than or equal to (`>=`)\n",
    "\n",
    "Comparators check if a value is (or is not) equal to, greater than (or equal to), or less than (or equal to) another value, and return a boolean. Note that `==` compares whether two things are equal, and `=` assigns a value to a variable. To give an example:"
   ]
  },
  {
   "cell_type": "code",
   "execution_count": 0,
   "metadata": {
    "colab": {},
    "colab_type": "code",
    "id": "IcDT6c05h2qV"
   },
   "outputs": [],
   "source": [
    "print(2 == 3) # returns False\n",
    "print(4 != 3)# returns True\n",
    "print(2.9 < 3) # return True\n",
    "print(4 <= 3) # returns False\n",
    "print(5 > 5) # returns False\n",
    "print(5 >= 5) # returns True"
   ]
  },
  {
   "cell_type": "markdown",
   "metadata": {
    "colab_type": "text",
    "id": "rvlwGrjoh2qX"
   },
   "source": [
    "### 3.2. To be and/or not to be"
   ]
  },
  {
   "cell_type": "markdown",
   "metadata": {
    "colab_type": "text",
    "id": "b2G6SC-zh2qY"
   },
   "source": [
    "**Boolean operators** compare statements and result in boolean values. There are three boolean operators, two binary and one unary:\n",
    "1. `and` is a binary boolean operator which checks if both statements are `True`. If this is the case, it returns `True`, otherwise it returns `False`.\n",
    "2. `or` is a binary boolean operator which checks if *at least* one of the statements is `True`. If this is the case, it returns `True`, otherwise it returns `False`.\n",
    "3. `not` is the only unary boolean operator, and gives the opposite of the following statement.\n",
    "\n",
    "Regarding **precedence**, these Boolean operators are evaluated after the normal arithmetic evaluations discussed in section 1.3. Within the set of Boolean operators, the following precedence is valid (unless parentheses are used):\n",
    "\n",
    "1. `not` is evaluated first\n",
    "2. `and` is evaluated next\n",
    "3. `or` is evaluated next\n",
    "\n",
    "Moreover, the left-hand side of the binary operators are evaluated before their right-hand side, if the right-hand side is evaluated at all. For instance, if the left-hand side of the `and` operator is a statement which is `False`, the resulting operation will be `False`, irrespective of the right-hand side, and this right-hand side will not even be evaluated. This can for instance be useful if you want to check a variety of conditions to be met, each one more stringent than the preceding one, for which it makes no sense to evaluate the more stringent condition if a less stringent condition is not met."
   ]
  },
  {
   "cell_type": "markdown",
   "metadata": {
    "colab_type": "text",
    "id": "u9cBs-59h2qY"
   },
   "source": [
    "### 3.3. Conditional statement syntax: If, else, elif"
   ]
  },
  {
   "cell_type": "markdown",
   "metadata": {
    "colab_type": "text",
    "id": "sfgMsPSzh2qa"
   },
   "source": [
    "`if` is a **conditional statement** that executes some specified code after checking if its expression is `True`. This specified code needs to be indented, and will be skipped if the conditional statement evaluates as `False`. Also, make sure you notice the colons at the end of the `if` statement, as missing them will result in an error. Below, a working example is given."
   ]
  },
  {
   "cell_type": "code",
   "execution_count": 0,
   "metadata": {
    "colab": {},
    "colab_type": "code",
    "id": "NVcbiD8ah2qa"
   },
   "outputs": [],
   "source": [
    "number_1 = 10\n",
    "number_2 = 4\n",
    "if number_1 > number_2:\n",
    "    print(\"{:d} is the largest number\".format(number_1))"
   ]
  },
  {
   "cell_type": "markdown",
   "metadata": {
    "colab_type": "text",
    "id": "Sw4Wgle9h2qg"
   },
   "source": [
    "The `else` statement complements the `if` statement. An `if`/`else` pair says: \"If this expression is true, run this indented code block, otherwise, run this code after the else statement.\"\n",
    "\n",
    "Unlike `if`, `else` doesn't depend on an expression (as it is the other option), but still needs a colon. For example:"
   ]
  },
  {
   "cell_type": "code",
   "execution_count": 0,
   "metadata": {
    "colab": {},
    "colab_type": "code",
    "id": "dcXI9KQ-h2qh"
   },
   "outputs": [],
   "source": [
    "number_1 = 3\n",
    "number_2 = 4\n",
    "if number_1 > number_2:\n",
    "    print(\"{:d} is the largest number\".format(number_1))\n",
    "else:\n",
    "    print(\"{:d} is the largest number\".format(number_2))"
   ]
  },
  {
   "cell_type": "markdown",
   "metadata": {
    "colab_type": "text",
    "id": "kIyWXJhhh2qk"
   },
   "source": [
    "`elif` is short for \"else if\". It means exactly what it sounds like: \"otherwise, if the following expression is true, do this.\" This `elif` statement is only checked if the original `if` statement is `False`. Note that *Python* does not provide a switch statement, which some of you may know from other programming languages. This `elif` statement is an alternative."
   ]
  },
  {
   "cell_type": "markdown",
   "metadata": {
    "colab_type": "text",
    "id": "i_ShLYBLh2ql"
   },
   "source": [
    "The following function, `greater_less_equal_5` should return `1` if the `answer` is greater than `5`, `-1` if the answer is smaller than `5`, and `0` otherwise. Fill in the two `___` such that the function has this functionality."
   ]
  },
  {
   "cell_type": "code",
   "execution_count": 0,
   "metadata": {
    "colab": {},
    "colab_type": "code",
    "id": "sOhZpQLhh2ql"
   },
   "outputs": [],
   "source": [
    "def greater_less_equal_5(answer):\n",
    "    if ____:      # Change the statement ____ here\n",
    "        return 1\n",
    "    elif ____:    # Change the statement ____ here\n",
    "        return -1\n",
    "    else:\n",
    "        return 0\n",
    "\n",
    "# Do not change the lines below\n",
    "print(greater_less_equal_5(4))\n",
    "print(greater_less_equal_5(5))\n",
    "print(greater_less_equal_5(6))"
   ]
  },
  {
   "cell_type": "markdown",
   "metadata": {
    "colab_type": "text",
    "id": "OMCP5jYch2qo"
   },
   "source": [
    "<br/>"
   ]
  },
  {
   "cell_type": "markdown",
   "metadata": {
    "colab_type": "text",
    "id": "8_JTNSzYh2qp"
   },
   "source": [
    "## Chapter 4: The Pig Latin translator challenge"
   ]
  },
  {
   "cell_type": "markdown",
   "metadata": {
    "colab_type": "text",
    "id": "8lsSKQpXh2qq"
   },
   "source": [
    "Now let's take what we've learned so far and write a Pig Latin translator.\n",
    "\n",
    "Pig Latin is a language game where you move the first letter of the word to the end and add \"ay\". So \"Python\" becomes \"ythonpay\", and \"excitement\" becomes \"xcitementay\". To write a Pig Latin translator in *Python*, here are the steps we'll need to take:\n",
    "\n",
    "1. Ask the user to input a word in English\n",
    "2. Make sure the user entered a valid word\n",
    "3. Convert the word from English to Pig Latin, according to the rules above\n",
    "4. Display the translation result\n",
    "\n",
    "Below, some more information is given for each of these steps."
   ]
  },
  {
   "cell_type": "markdown",
   "metadata": {
    "colab_type": "text",
    "id": "EnhGnqpTh2qq"
   },
   "source": [
    "### 4.1. The input"
   ]
  },
  {
   "cell_type": "markdown",
   "metadata": {
    "colab_type": "text",
    "id": "eUp618Zsh2qr"
   },
   "source": [
    "The `input` command (for users of *Python 2.x*, this coincides with the `raw_input` command) accepts a string, such as `\"Short clarifying sentence: \"`, prints it to the screen, and then waits for the user to type something and press Enter. Once Enter has been pressed, the user's input is stored in the variable (here `word`). For instance: `word = input(\"Short clarifying sentence\")`"
   ]
  },
  {
   "cell_type": "markdown",
   "metadata": {
    "colab_type": "text",
    "id": "xx7JaSdjh2qr"
   },
   "source": [
    "### 4.2. Check whether the input is valid"
   ]
  },
  {
   "cell_type": "markdown",
   "metadata": {
    "colab_type": "text",
    "id": "pHo9F3-Gh2qs"
   },
   "source": [
    "For a word to be valid, two criteria need to be met:\n",
    "1. The length of the entered word has to be greater than 0. If this is not the case, print `\"Incorrect input!\"`. \n",
    "2. The entered word can only contain alphabetical characters. You can use the `\"String\".isalpha()` method to check this. If other characters are found, again print `\"Incorrect input!\"`."
   ]
  },
  {
   "cell_type": "markdown",
   "metadata": {
    "colab_type": "text",
    "id": "ewFEWf31h2qt"
   },
   "source": [
    "### 4.3. Translation to Pig Latin"
   ]
  },
  {
   "cell_type": "markdown",
   "metadata": {
    "colab_type": "text",
    "id": "eBNQ1TK6h2qt"
   },
   "source": [
    "Now we can get ready to start translating to Pig Latin! If the input `word` is correct, do the following:\n",
    "1. Convert the input `word` to lowercase\n",
    "2. Create a variable named `pyg` that holds the suffix `\"ay\"`\n",
    "3. Create a variable named `first` that holds the first letter of the input `word`\n",
    "4. Concatenate the first letter and the suffix (in that order) to the  original word, and store it in `new_word`. \n",
    "5. Now we have the first letter showing up both at the beginning and near the end. Slice `new_word` such that the first character is no longer present."
   ]
  },
  {
   "cell_type": "markdown",
   "metadata": {
    "colab_type": "text",
    "id": "ea3R3ICJh2qt"
   },
   "source": [
    "### 4.4. Display the result"
   ]
  },
  {
   "cell_type": "markdown",
   "metadata": {
    "colab_type": "text",
    "id": "vDw5gA1Oh2qu"
   },
   "source": [
    "Finally, print the resulting sliced word.\n",
    "\n",
    "You should have a fully functioning Pig Latin translator. Test your code thorougly to be sure everything is working smoothly.\n",
    "\n",
    "You'll also want to take out any print statements you were using to help debug intermediate steps of your code. Now might be a good time to add some comments too! Making sure your code is clean, commented, and fully functional is just as important as writing it in the first place."
   ]
  },
  {
   "cell_type": "code",
   "execution_count": 0,
   "metadata": {
    "colab": {},
    "colab_type": "code",
    "id": "ogMmMJs5h2qu"
   },
   "outputs": [],
   "source": [
    "\n",
    "\n",
    "\n",
    "\n",
    "\n",
    "\n",
    "\n",
    "\n",
    "\n",
    "\n"
   ]
  },
  {
   "cell_type": "markdown",
   "metadata": {
    "colab_type": "text",
    "id": "6BrdvD2rh2qw"
   },
   "source": [
    "<br/>"
   ]
  },
  {
   "cell_type": "markdown",
   "metadata": {
    "colab_type": "text",
    "id": "eVu3Bt9nh2qw"
   },
   "source": [
    "Congratulations: You passed the first notebook!"
   ]
  }
 ],
 "metadata": {
  "colab": {
   "name": "Python_Part1.ipynb",
   "provenance": [
    {
     "file_id": "https://github.com/molmod/Tutorial/blob/master/python/Python_Part1.ipynb",
     "timestamp": 1536332895521
    }
   ],
   "version": "0.3.2"
  },
  "kernelspec": {
   "display_name": "Python 3",
   "language": "python",
   "name": "python3"
  },
  "language_info": {
   "codemirror_mode": {
    "name": "ipython",
    "version": 3
   },
   "file_extension": ".py",
   "mimetype": "text/x-python",
   "name": "python",
   "nbconvert_exporter": "python",
   "pygments_lexer": "ipython3",
   "version": "3.7.3"
  }
 },
 "nbformat": 4,
 "nbformat_minor": 1
}
